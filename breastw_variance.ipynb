{
 "cells": [
  {
   "cell_type": "code",
   "execution_count": 2,
   "metadata": {},
   "outputs": [
    {
     "data": {
      "text/html": [
       "<style>.container { width:100% !important; }</style>"
      ],
      "text/plain": [
       "<IPython.core.display.HTML object>"
      ]
     },
     "metadata": {},
     "output_type": "display_data"
    }
   ],
   "source": [
    "import sys\n",
    "sys.path.insert(0, '/Users/egork/.pyenv/versions/3.6.7/lib/python3.6/site-packages/')\n",
    "\n",
    "from scipy.io import loadmat\n",
    "import pandas as pd\n",
    "%matplotlib inline\n",
    "import matplotlib.pyplot as plt\n",
    "import seaborn\n",
    "import numpy as np\n",
    "from IPython.core.display import display, HTML\n",
    "display(HTML(\"<style>.container { width:100% !important; }</style>\"))\n",
    "from sklearn.preprocessing import OneHotEncoder\n",
    "from sklearn.ensemble import RandomForestRegressor, RandomForestClassifier\n",
    "from sklearn import metrics\n",
    "import time\n",
    "from sklearn.preprocessing import minmax_scale\n",
    "from random import sample\n",
    "from random import seed\n",
    "from sklearn.preprocessing import minmax_scale, LabelEncoder\n",
    "epsilon = 10**(-8)"
   ]
  },
  {
   "cell_type": "code",
   "execution_count": 3,
   "metadata": {},
   "outputs": [
    {
     "name": "stdout",
     "output_type": "stream",
     "text": [
      "[]\n"
     ]
    }
   ],
   "source": [
    "import glob\n",
    "data_files = glob.glob('*.mat')\n",
    "print(data_files)"
   ]
  },
  {
   "cell_type": "code",
   "execution_count": 4,
   "metadata": {
    "collapsed": true
   },
   "outputs": [],
   "source": [
    "def read_data(file_name):\n",
    "    print(file_name)\n",
    "    data = loadmat(file_name)\n",
    "    return data['X'], data['y']"
   ]
  },
  {
   "cell_type": "code",
   "execution_count": 6,
   "metadata": {},
   "outputs": [
    {
     "name": "stdout",
     "output_type": "stream",
     "text": [
      "./data/breastw.mat\n"
     ]
    }
   ],
   "source": [
    "file_name = './data/breastw.mat'\n",
    "x = loadmat(file_name)\n",
    "features, label = read_data(file_name)"
   ]
  },
  {
   "cell_type": "code",
   "execution_count": 7,
   "metadata": {},
   "outputs": [
    {
     "data": {
      "text/plain": [
       "27.32"
      ]
     },
     "execution_count": 7,
     "metadata": {},
     "output_type": "execute_result"
    }
   ],
   "source": [
    "features.shape[0]*0.04"
   ]
  },
  {
   "cell_type": "code",
   "execution_count": 8,
   "metadata": {},
   "outputs": [
    {
     "data": {
      "text/plain": [
       "(683, 9)"
      ]
     },
     "execution_count": 8,
     "metadata": {},
     "output_type": "execute_result"
    }
   ],
   "source": [
    "features.shape"
   ]
  },
  {
   "cell_type": "code",
   "execution_count": 9,
   "metadata": {
    "collapsed": true
   },
   "outputs": [],
   "source": [
    "min_leaf_size, n_trees = 27, 500"
   ]
  },
  {
   "cell_type": "code",
   "execution_count": 10,
   "metadata": {
    "collapsed": true
   },
   "outputs": [],
   "source": [
    "forest_parameters = dict(n_estimators=n_trees, criterion='mae', max_features=0.333333,\n",
    "                        oob_score=True, verbose=1, n_jobs=-1,  min_samples_leaf=min_leaf_size)"
   ]
  },
  {
   "cell_type": "code",
   "execution_count": 11,
   "metadata": {},
   "outputs": [
    {
     "name": "stdout",
     "output_type": "stream",
     "text": [
      "[10 10 10 10 10 10 10 10  9]\n",
      "[0.01464129 0.01464129 0.01464129 0.01464129 0.01464129 0.01464129\n",
      " 0.01464129 0.01464129 0.01317716]\n"
     ]
    }
   ],
   "source": [
    "print(pd.DataFrame(features).nunique().values)\n",
    "print(pd.DataFrame(features).nunique().values/features.shape[0])"
   ]
  },
  {
   "cell_type": "code",
   "execution_count": 11,
   "metadata": {
    "collapsed": true
   },
   "outputs": [],
   "source": [
    "from sklearn.ensemble._forest import _generate_unsampled_indices\n",
    "from sklearn.metrics import explained_variance_score\n",
    "\n",
    "def _set_oob_error(estimators_, X, y):\n",
    "    \"\"\"\n",
    "    Compute out-of-bag variance.\"\"\"\n",
    "\n",
    "    n_samples = y.shape[0]\n",
    "\n",
    "    predictions = [[] for _ in range(n_samples)]\n",
    "    n_predictions = np.zeros((n_samples, 1))\n",
    "\n",
    "    n_samples_bootstrap = n_samples\n",
    "\n",
    "    for estimator in estimators_:\n",
    "        unsampled_indices = _generate_unsampled_indices(\n",
    "            estimator.random_state, n_samples, n_samples_bootstrap)\n",
    "        p_estimator = estimator.predict(\n",
    "            X[unsampled_indices, :], check_input=False)\n",
    "\n",
    "\n",
    "        p_estimator = p_estimator[:, np.newaxis]\n",
    "        for idx, value in enumerate(unsampled_indices):\n",
    "            predictions[value].append(p_estimator[idx])\n",
    "    return np.array([np.sum(((values - y[idx])**2)/len(values)) for idx, values in enumerate(predictions)])\n",
    "\n",
    "\n",
    "def _set_oob_variance(estimators_, X, y):\n",
    "    \"\"\"\n",
    "    Compute out-of-bag variance.\"\"\"\n",
    "\n",
    "    n_samples = y.shape[0]\n",
    "\n",
    "    predictions = [[] for _ in range(n_samples)]\n",
    "    n_predictions = np.zeros((n_samples, 1))\n",
    "\n",
    "    n_samples_bootstrap = n_samples\n",
    "\n",
    "    for estimator in estimators_:\n",
    "        unsampled_indices = _generate_unsampled_indices(\n",
    "            estimator.random_state, n_samples, n_samples_bootstrap)\n",
    "        p_estimator = estimator.predict(\n",
    "            X[unsampled_indices, :], check_input=False)\n",
    "\n",
    "\n",
    "        p_estimator = p_estimator[:, np.newaxis]\n",
    "\n",
    "        for idx, value in enumerate(unsampled_indices):\n",
    "            predictions[value].append(p_estimator[idx].tolist()[0])\n",
    "\n",
    "    return np.array([np.var(arr) for arr in predictions])\n",
    "\n",
    "\n",
    "def compute_metric_single_feature(features, feature_index, quantile_forest=True):\n",
    "    print(\"Continious appraoch feature {}\".format(feature_index))\n",
    "    results_pd = pd.DataFrame()\n",
    "\n",
    "    if quantile_forest:\n",
    "        regressor = RandomForestQuantileRegressosssr(**forest_parameters)\n",
    "    else:\n",
    "        regressor=RandomForestRegressor(**forest_parameters)\n",
    "    \n",
    "    \n",
    "    y=features[:, feature_index]    \n",
    "    train=np.delete(features, [feature_index], axis=1)\n",
    "    start_time = time.time()\n",
    "    regressor.fit(X=train, y=y)\n",
    "    print(\"--- %s seconds fit ---\" % (time.time() - start_time))\n",
    "\n",
    "    if quantile_forest:\n",
    "        predictions = regressor.predict(train, percentiles=[50], oob_score=True)\n",
    "    else:\n",
    "        predictions = regressor.oob_prediction_\n",
    "    \n",
    "    results_pd['prediction_{}'.format(feature_index)] = pd.Series(np.array(predictions)[:])\n",
    "    np_log=np.log(np.abs((np.array(predictions)[:]+epsilon)/(y+epsilon)))\n",
    "    abs_diff = np.abs(np.array(predictions)[:] - y) + epsilon\n",
    "    results_pd['abs_diff_{}'.format(feature_index)] = pd.Series(abs_diff)\n",
    "    results_pd['abs_diff_min_max_scaling_{}'.format(feature_index)] = pd.Series(minmax_scale(abs_diff, feature_range=(epsilon, 1)))\n",
    "\n",
    "    results_pd['abs_diff_median_scaling_{}'.format(feature_index)] = pd.Series(minmax_scale(_set_oob_error(regressor.estimators_, np.array(train, dtype=np.float32), y)))\n",
    "    results_pd['log_ratio_{}'.format(feature_index)] = pd.Series(np_log)\n",
    "    results_pd['log_abs_ratio_{}'.format(feature_index)] = pd.Series(np.abs(np_log))\n",
    "    feature_imp = np.insert(regressor.feature_importances_, feature_index, 0,axis=0)\n",
    "    weight = 1 - min(1, (1 - metrics.r2_score(y, np.array(predictions)[:],\n",
    "                                              multioutput='raw_values'))**0.5)\n",
    "    print(\"Weight: {}\".format(weight))\n",
    "    results_pd['weighted_abs_diff_median_scaling_{}'.format(feature_index)] =  weight * pd.Series(abs_diff/(np.median(abs_diff)+epsilon))\n",
    "    return results_pd\n",
    "\n",
    "def compute_metrics_single_categorical_feature(features, feature_index, bin_number=None):\n",
    "    print(\"Categorical appraoch feature {}\".format(feature_index))\n",
    "    results_pd = pd.DataFrame()\n",
    "    classifier = RandomForestClassifier(oob_score=True, \n",
    "                                        n_estimators=n_trees, bootstrap=True, n_jobs=-1,\n",
    "                                        criterion='entropy', min_samples_leaf=min_leaf_size, verbose=1)\n",
    "\n",
    "    y=features[:, feature_index]\n",
    "    if bin_number or type_of_target(features[:, feature_index])=='continuous':\n",
    "        if bin_number:\n",
    "            bins = min(np.unique(y).shape[0], bin_number)\n",
    "        else:\n",
    "            bins = np.unique(y).shape[0]\n",
    "        y = np.digitize(y, bins=np.histogram(y, bins=bins)[1])\n",
    "    train=np.delete(features, [feature_index], axis=1)\n",
    "    start_time = time.time()\n",
    "    \n",
    "    classifier.fit(X=train, y=y)\n",
    "    print(\"--- %s seconds fit ---\" % (time.time() - start_time))\n",
    "\n",
    "    y_map={value: list(set(y.flatten())).index(value)  for value in set(y.flatten())}\n",
    "\n",
    "    probability_scores=[classifier.oob_decision_function_[index,:][y_map[element]] for index, element in enumerate(y.flatten())]\n",
    "    \n",
    "    entropy_list=[]\n",
    "    num_classes=np.unique(y).shape[0]\n",
    "    if num_classes>1:\n",
    "        max_entropy = np.log(num_classes)\n",
    "    else:\n",
    "        max_entropy = 1\n",
    "\n",
    "    entropy_np = np.array([sum([-value*np.log(value+epsilon) for value in ls])/max_entropy + (1.0-probability_scores[idx]) for idx, ls in enumerate(classifier.oob_decision_function_)])\n",
    "    results_pd[\"abs_diff_median_scaling_{}\".format(feature_index)] = pd.Series(entropy_np)\n",
    "    return results_pd"
   ]
  },
  {
   "cell_type": "code",
   "execution_count": 12,
   "metadata": {},
   "outputs": [
    {
     "name": "stdout",
     "output_type": "stream",
     "text": [
      "--- feature index 0 / 8 ---\n",
      "Categorical appraoch feature 0\n"
     ]
    },
    {
     "name": "stderr",
     "output_type": "stream",
     "text": [
      "[Parallel(n_jobs=-1)]: Using backend ThreadingBackend with 8 concurrent workers.\n",
      "[Parallel(n_jobs=-1)]: Done  34 tasks      | elapsed:    0.1s\n",
      "[Parallel(n_jobs=-1)]: Done 184 tasks      | elapsed:    0.5s\n",
      "[Parallel(n_jobs=-1)]: Done 434 tasks      | elapsed:    1.0s\n",
      "[Parallel(n_jobs=-1)]: Done 500 out of 500 | elapsed:    1.1s finished\n"
     ]
    },
    {
     "name": "stdout",
     "output_type": "stream",
     "text": [
      "--- 1.7921819686889648 seconds fit ---\n",
      "--- feature index 1 / 8 ---\n",
      "Categorical appraoch feature 1\n"
     ]
    },
    {
     "name": "stderr",
     "output_type": "stream",
     "text": [
      "[Parallel(n_jobs=-1)]: Using backend ThreadingBackend with 8 concurrent workers.\n",
      "[Parallel(n_jobs=-1)]: Done  34 tasks      | elapsed:    0.1s\n",
      "[Parallel(n_jobs=-1)]: Done 184 tasks      | elapsed:    0.5s\n",
      "[Parallel(n_jobs=-1)]: Done 434 tasks      | elapsed:    1.0s\n",
      "[Parallel(n_jobs=-1)]: Done 500 out of 500 | elapsed:    1.1s finished\n"
     ]
    },
    {
     "name": "stdout",
     "output_type": "stream",
     "text": [
      "--- 1.9755918979644775 seconds fit ---\n",
      "--- feature index 2 / 8 ---\n",
      "Categorical appraoch feature 2\n"
     ]
    },
    {
     "name": "stderr",
     "output_type": "stream",
     "text": [
      "[Parallel(n_jobs=-1)]: Using backend ThreadingBackend with 8 concurrent workers.\n",
      "[Parallel(n_jobs=-1)]: Done  34 tasks      | elapsed:    0.1s\n",
      "[Parallel(n_jobs=-1)]: Done 184 tasks      | elapsed:    0.4s\n",
      "[Parallel(n_jobs=-1)]: Done 434 tasks      | elapsed:    1.1s\n",
      "[Parallel(n_jobs=-1)]: Done 500 out of 500 | elapsed:    1.3s finished\n"
     ]
    },
    {
     "name": "stdout",
     "output_type": "stream",
     "text": [
      "--- 2.0779640674591064 seconds fit ---\n",
      "--- feature index 3 / 8 ---\n",
      "Categorical appraoch feature 3\n"
     ]
    },
    {
     "name": "stderr",
     "output_type": "stream",
     "text": [
      "[Parallel(n_jobs=-1)]: Using backend ThreadingBackend with 8 concurrent workers.\n",
      "[Parallel(n_jobs=-1)]: Done  34 tasks      | elapsed:    0.1s\n",
      "[Parallel(n_jobs=-1)]: Done 184 tasks      | elapsed:    0.4s\n",
      "[Parallel(n_jobs=-1)]: Done 434 tasks      | elapsed:    0.9s\n",
      "[Parallel(n_jobs=-1)]: Done 500 out of 500 | elapsed:    1.0s finished\n"
     ]
    },
    {
     "name": "stdout",
     "output_type": "stream",
     "text": [
      "--- 1.5959279537200928 seconds fit ---\n",
      "--- feature index 4 / 8 ---\n",
      "Categorical appraoch feature 4\n"
     ]
    },
    {
     "name": "stderr",
     "output_type": "stream",
     "text": [
      "[Parallel(n_jobs=-1)]: Using backend ThreadingBackend with 8 concurrent workers.\n",
      "[Parallel(n_jobs=-1)]: Done  34 tasks      | elapsed:    0.1s\n",
      "[Parallel(n_jobs=-1)]: Done 184 tasks      | elapsed:    0.5s\n",
      "[Parallel(n_jobs=-1)]: Done 434 tasks      | elapsed:    1.1s\n",
      "[Parallel(n_jobs=-1)]: Done 500 out of 500 | elapsed:    1.2s finished\n"
     ]
    },
    {
     "name": "stdout",
     "output_type": "stream",
     "text": [
      "--- 1.7627348899841309 seconds fit ---\n",
      "--- feature index 5 / 8 ---\n",
      "Categorical appraoch feature 5\n"
     ]
    },
    {
     "name": "stderr",
     "output_type": "stream",
     "text": [
      "[Parallel(n_jobs=-1)]: Using backend ThreadingBackend with 8 concurrent workers.\n",
      "[Parallel(n_jobs=-1)]: Done  34 tasks      | elapsed:    0.1s\n",
      "[Parallel(n_jobs=-1)]: Done 184 tasks      | elapsed:    0.4s\n",
      "[Parallel(n_jobs=-1)]: Done 434 tasks      | elapsed:    1.0s\n",
      "[Parallel(n_jobs=-1)]: Done 500 out of 500 | elapsed:    1.2s finished\n"
     ]
    },
    {
     "name": "stdout",
     "output_type": "stream",
     "text": [
      "--- 1.7202339172363281 seconds fit ---\n",
      "--- feature index 6 / 8 ---\n",
      "Categorical appraoch feature 6\n"
     ]
    },
    {
     "name": "stderr",
     "output_type": "stream",
     "text": [
      "[Parallel(n_jobs=-1)]: Using backend ThreadingBackend with 8 concurrent workers.\n",
      "[Parallel(n_jobs=-1)]: Done  34 tasks      | elapsed:    0.1s\n",
      "[Parallel(n_jobs=-1)]: Done 184 tasks      | elapsed:    0.4s\n",
      "[Parallel(n_jobs=-1)]: Done 434 tasks      | elapsed:    0.9s\n",
      "[Parallel(n_jobs=-1)]: Done 500 out of 500 | elapsed:    1.0s finished\n"
     ]
    },
    {
     "name": "stdout",
     "output_type": "stream",
     "text": [
      "--- 1.546034336090088 seconds fit ---\n",
      "--- feature index 7 / 8 ---\n",
      "Categorical appraoch feature 7\n"
     ]
    },
    {
     "name": "stderr",
     "output_type": "stream",
     "text": [
      "[Parallel(n_jobs=-1)]: Using backend ThreadingBackend with 8 concurrent workers.\n",
      "[Parallel(n_jobs=-1)]: Done  34 tasks      | elapsed:    0.1s\n",
      "[Parallel(n_jobs=-1)]: Done 184 tasks      | elapsed:    0.4s\n",
      "[Parallel(n_jobs=-1)]: Done 434 tasks      | elapsed:    1.0s\n",
      "[Parallel(n_jobs=-1)]: Done 500 out of 500 | elapsed:    1.2s finished\n"
     ]
    },
    {
     "name": "stdout",
     "output_type": "stream",
     "text": [
      "--- 1.7713751792907715 seconds fit ---\n",
      "--- feature index 8 / 8 ---\n",
      "Categorical appraoch feature 8\n"
     ]
    },
    {
     "name": "stderr",
     "output_type": "stream",
     "text": [
      "[Parallel(n_jobs=-1)]: Using backend ThreadingBackend with 8 concurrent workers.\n",
      "[Parallel(n_jobs=-1)]: Done  34 tasks      | elapsed:    0.1s\n",
      "[Parallel(n_jobs=-1)]: Done 184 tasks      | elapsed:    0.4s\n",
      "[Parallel(n_jobs=-1)]: Done 434 tasks      | elapsed:    0.9s\n",
      "[Parallel(n_jobs=-1)]: Done 500 out of 500 | elapsed:    1.0s finished\n"
     ]
    },
    {
     "name": "stdout",
     "output_type": "stream",
     "text": [
      "--- 1.5107018947601318 seconds fit ---\n"
     ]
    }
   ],
   "source": [
    "from sklearn.utils.multiclass import type_of_target\n",
    "results_all_features_pd = pd.DataFrame()\n",
    "feature_weights=np.zeros(features.shape[1])\n",
    "feature_weights_r2=[]\n",
    "min_number_of_values = 300\n",
    "num_feature_index = [feature_index for feature_index in range(features.shape[1])\n",
    "                     if len(set(features[:, feature_index])) > 0]\n",
    "bin_number = None\n",
    "for feature_index in num_feature_index:\n",
    "    print('--- feature index {} / {} ---'.format(feature_index, features.shape[1]-1))\n",
    "    if len(set(features[:, feature_index])) > min_number_of_values:\n",
    "        results_pd = compute_metric_single_feature(features, feature_index, quantile_forest=False)\n",
    "    else:\n",
    "        results_pd = compute_metrics_single_categorical_feature(features, feature_index, bin_number)\n",
    " \n",
    "    results_all_features_pd[results_pd.columns] = results_pd"
   ]
  },
  {
   "cell_type": "code",
   "execution_count": 13,
   "metadata": {},
   "outputs": [
    {
     "data": {
      "image/png": "[encoded data removed]",
      "text/plain": [
       "<Figure size 1008x720 with 1 Axes>"
      ]
     },
     "metadata": {},
     "output_type": "display_data"
    },
    {
     "name": "stdout",
     "output_type": "stream",
     "text": [
      "0.9846394511666479\n"
     ]
    },
    {
     "data": {
      "image/png": "[encoded data removed]",
      "text/plain": [
       "<Figure size 432x288 with 1 Axes>"
      ]
     },
     "metadata": {},
     "output_type": "display_data"
    }
   ],
   "source": [
    "metric_name = 'abs_diff_median_scaling'\n",
    "plt.figure(figsize=[14, 10])\n",
    "auc=[]\n",
    "columns_list_names=['{}_{}'.format(metric_name, feature_index) for feature_index in num_feature_index]\n",
    "\n",
    "for feature_index in num_feature_index:\n",
    "    fpr, tpr, thresholds = metrics.roc_curve(label.flatten(),\n",
    "                                             results_all_features_pd['{}_{}'.format(metric_name, feature_index )],\n",
    "                                             pos_label=1)\n",
    "    if len(set(features[:, feature_index])) > min_number_of_values:\n",
    "        message = \"f_ix continious: {} AUC:{:.2}\".format(feature_index, metrics.auc(fpr, tpr))\n",
    "    else:\n",
    "        message = \"f_ix categorical: {} AUC:{:.2}\".format(feature_index, metrics.auc(fpr, tpr))\n",
    "    plt.plot(fpr, tpr, lw=1, label=message,\n",
    "             color='C{}'.format(feature_index%10))\n",
    "    plt.title(\"ROC using {}\".format(metric_name))\n",
    "    auc.append(metrics.auc(fpr, tpr))\n",
    "plt.legend()\n",
    "plt.show()\n",
    "print(max(auc))\n",
    "\n",
    "# simple sum\n",
    "metric_sum =(results_all_features_pd[columns_list_names]).sum(axis=1)\n",
    "fpr1, tpr1, thresholds1 = metrics.roc_curve(label.flatten(), metric_sum, pos_label=1)\n",
    "plt.plot(fpr1, tpr1, color='red', lw=1, label='avg {}'.format(metrics.auc(fpr1, tpr1)))\n",
    "plt.title(\"ROC {}_sum\".format(metric_name))\n",
    "plt.legend()\n",
    "plt.show()"
   ]
  }
 ],
 "metadata": {
  "kernelspec": {
   "display_name": "Python 3",
   "language": "python",
   "name": "python3"
  },
  "language_info": {
   "codemirror_mode": {
    "name": "ipython",
    "version": 3
   },
   "file_extension": ".py",
   "mimetype": "text/x-python",
   "name": "python",
   "nbconvert_exporter": "python",
   "pygments_lexer": "ipython3",
   "version": "3.6.5"
  }
 },
 "nbformat": 4,
 "nbformat_minor": 2
}
